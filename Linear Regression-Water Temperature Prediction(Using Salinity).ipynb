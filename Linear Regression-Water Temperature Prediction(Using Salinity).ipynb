{
  "nbformat": 4,
  "nbformat_minor": 0,
  "metadata": {
    "colab": {
      "name": "Linear Regression-Water Temperature Prediction(Using Salinity).ipynb",
      "provenance": [],
      "authorship_tag": "ABX9TyNHCdR0QuuDuFeipzGRPHgn"
    },
    "kernelspec": {
      "name": "python3",
      "display_name": "Python 3"
    },
    "language_info": {
      "name": "python"
    }
  },
  "cells": [
    {
      "cell_type": "markdown",
      "metadata": {
        "id": "Kv1o0tVHns0d"
      },
      "source": [
        "<h1 align = \"center\"> LINEAR REGRESSION</h1>"
      ]
    },
    {
      "cell_type": "markdown",
      "metadata": {
        "id": "998UQJmftpJN"
      },
      "source": [
        "<h1 align = \"center\"> USING SALINITY TO PREDICT TEMPERATURE OF WATER</h1>"
      ]
    },
    {
      "cell_type": "markdown",
      "metadata": {
        "id": "cb9lWP_Q8IX9"
      },
      "source": [
        "#<h2>Nithin Shanmugam V (RA1911026020087)</h2>"
      ]
    },
    {
      "cell_type": "markdown",
      "metadata": {
        "id": "gkYYf97TnR8Z"
      },
      "source": [
        "#<h2>Subject: VAC</h2>"
      ]
    },
    {
      "cell_type": "markdown",
      "metadata": {
        "id": "GsnYqiZEuDTP"
      },
      "source": [
        "#<h3> Importing libraries</h3>"
      ]
    },
    {
      "cell_type": "code",
      "metadata": {
        "id": "RPulyfOU8lt0"
      },
      "source": [
        "import warnings\n",
        "warnings.simplefilter(\"ignore\")"
      ],
      "execution_count": 1,
      "outputs": []
    },
    {
      "cell_type": "code",
      "metadata": {
        "id": "2VUdJdbJ7uK9"
      },
      "source": [
        "import numpy as np\n",
        "import pandas as pd"
      ],
      "execution_count": 2,
      "outputs": []
    },
    {
      "cell_type": "code",
      "metadata": {
        "id": "EegMQW1d83nr"
      },
      "source": [
        "import matplotlib.pyplot as plt\n",
        "%matplotlib inline"
      ],
      "execution_count": 3,
      "outputs": []
    },
    {
      "cell_type": "markdown",
      "metadata": {
        "id": "W4M3AifduOlX"
      },
      "source": [
        "#<h3> Importing Dataset</h3>"
      ]
    },
    {
      "cell_type": "code",
      "metadata": {
        "id": "SNnOsm517-LH"
      },
      "source": [
        "dataset = pd.read_csv(\"/content/temp-salinity-final.csv\")"
      ],
      "execution_count": 4,
      "outputs": []
    },
    {
      "cell_type": "code",
      "metadata": {
        "colab": {
          "base_uri": "https://localhost:8080/",
          "height": 415
        },
        "id": "ZTSeYz3ZrhQR",
        "outputId": "eef156a6-6ae1-4fe7-b4dd-9484ac80e314"
      },
      "source": [
        "dataset"
      ],
      "execution_count": 5,
      "outputs": [
        {
          "output_type": "execute_result",
          "data": {
            "text/html": [
              "<div>\n",
              "<style scoped>\n",
              "    .dataframe tbody tr th:only-of-type {\n",
              "        vertical-align: middle;\n",
              "    }\n",
              "\n",
              "    .dataframe tbody tr th {\n",
              "        vertical-align: top;\n",
              "    }\n",
              "\n",
              "    .dataframe thead th {\n",
              "        text-align: right;\n",
              "    }\n",
              "</style>\n",
              "<table border=\"1\" class=\"dataframe\">\n",
              "  <thead>\n",
              "    <tr style=\"text-align: right;\">\n",
              "      <th></th>\n",
              "      <th>Cst_Cnt</th>\n",
              "      <th>Btl_Cnt</th>\n",
              "      <th>Sta_ID</th>\n",
              "      <th>Depth_ID</th>\n",
              "      <th>Depthm</th>\n",
              "      <th>Salnty</th>\n",
              "      <th>T_degC</th>\n",
              "    </tr>\n",
              "  </thead>\n",
              "  <tbody>\n",
              "    <tr>\n",
              "      <th>0</th>\n",
              "      <td>1</td>\n",
              "      <td>1</td>\n",
              "      <td>054.0 056.0</td>\n",
              "      <td>19-4903CR-HY-060-0930-05400560-0000A-3</td>\n",
              "      <td>0</td>\n",
              "      <td>33.440</td>\n",
              "      <td>10.50</td>\n",
              "    </tr>\n",
              "    <tr>\n",
              "      <th>1</th>\n",
              "      <td>1</td>\n",
              "      <td>2</td>\n",
              "      <td>054.0 056.0</td>\n",
              "      <td>19-4903CR-HY-060-0930-05400560-0008A-3</td>\n",
              "      <td>8</td>\n",
              "      <td>33.440</td>\n",
              "      <td>10.46</td>\n",
              "    </tr>\n",
              "    <tr>\n",
              "      <th>2</th>\n",
              "      <td>1</td>\n",
              "      <td>3</td>\n",
              "      <td>054.0 056.0</td>\n",
              "      <td>19-4903CR-HY-060-0930-05400560-0010A-7</td>\n",
              "      <td>10</td>\n",
              "      <td>33.437</td>\n",
              "      <td>10.46</td>\n",
              "    </tr>\n",
              "    <tr>\n",
              "      <th>3</th>\n",
              "      <td>1</td>\n",
              "      <td>4</td>\n",
              "      <td>054.0 056.0</td>\n",
              "      <td>19-4903CR-HY-060-0930-05400560-0019A-3</td>\n",
              "      <td>19</td>\n",
              "      <td>33.420</td>\n",
              "      <td>10.45</td>\n",
              "    </tr>\n",
              "    <tr>\n",
              "      <th>4</th>\n",
              "      <td>1</td>\n",
              "      <td>5</td>\n",
              "      <td>054.0 056.0</td>\n",
              "      <td>19-4903CR-HY-060-0930-05400560-0020A-7</td>\n",
              "      <td>20</td>\n",
              "      <td>33.421</td>\n",
              "      <td>10.45</td>\n",
              "    </tr>\n",
              "    <tr>\n",
              "      <th>...</th>\n",
              "      <td>...</td>\n",
              "      <td>...</td>\n",
              "      <td>...</td>\n",
              "      <td>...</td>\n",
              "      <td>...</td>\n",
              "      <td>...</td>\n",
              "      <td>...</td>\n",
              "    </tr>\n",
              "    <tr>\n",
              "      <th>99995</th>\n",
              "      <td>3383</td>\n",
              "      <td>99996</td>\n",
              "      <td>074.0 053.0</td>\n",
              "      <td>19-5109PT-HY-251-0042-07400530-0057A-3</td>\n",
              "      <td>57</td>\n",
              "      <td>NaN</td>\n",
              "      <td>10.16</td>\n",
              "    </tr>\n",
              "    <tr>\n",
              "      <th>99996</th>\n",
              "      <td>3383</td>\n",
              "      <td>99997</td>\n",
              "      <td>074.0 053.0</td>\n",
              "      <td>19-5109PT-HY-251-0042-07400530-0075A-7</td>\n",
              "      <td>75</td>\n",
              "      <td>NaN</td>\n",
              "      <td>9.56</td>\n",
              "    </tr>\n",
              "    <tr>\n",
              "      <th>99997</th>\n",
              "      <td>3383</td>\n",
              "      <td>99998</td>\n",
              "      <td>074.0 053.0</td>\n",
              "      <td>19-5109PT-HY-251-0042-07400530-0078A-3</td>\n",
              "      <td>78</td>\n",
              "      <td>NaN</td>\n",
              "      <td>9.46</td>\n",
              "    </tr>\n",
              "    <tr>\n",
              "      <th>99998</th>\n",
              "      <td>3383</td>\n",
              "      <td>99999</td>\n",
              "      <td>074.0 053.0</td>\n",
              "      <td>19-5109PT-HY-251-0042-07400530-0100A-7</td>\n",
              "      <td>100</td>\n",
              "      <td>NaN</td>\n",
              "      <td>9.19</td>\n",
              "    </tr>\n",
              "    <tr>\n",
              "      <th>99999</th>\n",
              "      <td>3383</td>\n",
              "      <td>100000</td>\n",
              "      <td>074.0 053.0</td>\n",
              "      <td>19-5109PT-HY-251-0042-07400530-0122A-3</td>\n",
              "      <td>122</td>\n",
              "      <td>NaN</td>\n",
              "      <td>9.10</td>\n",
              "    </tr>\n",
              "  </tbody>\n",
              "</table>\n",
              "<p>100000 rows × 7 columns</p>\n",
              "</div>"
            ],
            "text/plain": [
              "       Cst_Cnt  Btl_Cnt       Sta_ID  ... Depthm  Salnty  T_degC\n",
              "0            1        1  054.0 056.0  ...      0  33.440   10.50\n",
              "1            1        2  054.0 056.0  ...      8  33.440   10.46\n",
              "2            1        3  054.0 056.0  ...     10  33.437   10.46\n",
              "3            1        4  054.0 056.0  ...     19  33.420   10.45\n",
              "4            1        5  054.0 056.0  ...     20  33.421   10.45\n",
              "...        ...      ...          ...  ...    ...     ...     ...\n",
              "99995     3383    99996  074.0 053.0  ...     57     NaN   10.16\n",
              "99996     3383    99997  074.0 053.0  ...     75     NaN    9.56\n",
              "99997     3383    99998  074.0 053.0  ...     78     NaN    9.46\n",
              "99998     3383    99999  074.0 053.0  ...    100     NaN    9.19\n",
              "99999     3383   100000  074.0 053.0  ...    122     NaN    9.10\n",
              "\n",
              "[100000 rows x 7 columns]"
            ]
          },
          "metadata": {},
          "execution_count": 5
        }
      ]
    },
    {
      "cell_type": "code",
      "metadata": {
        "id": "0lBPFkAytzTX"
      },
      "source": [
        "dataset1 = dataset"
      ],
      "execution_count": 6,
      "outputs": []
    },
    {
      "cell_type": "markdown",
      "metadata": {
        "id": "iDaAX5npukQV"
      },
      "source": [
        "#<h3> Slicing the dat set - Removing the columns</h3>"
      ]
    },
    {
      "cell_type": "code",
      "metadata": {
        "id": "hQyHdrDhzWUn"
      },
      "source": [
        "dataset1 = dataset1.drop(columns=[\"Cst_Cnt\",\"Btl_Cnt\", \"Sta_ID\", \"Depth_ID\",\t\"Depthm\"])"
      ],
      "execution_count": 7,
      "outputs": []
    },
    {
      "cell_type": "code",
      "metadata": {
        "id": "1yML9lC0l7pt"
      },
      "source": [
        "dataset1 = dataset1.dropna()"
      ],
      "execution_count": 8,
      "outputs": []
    },
    {
      "cell_type": "code",
      "metadata": {
        "colab": {
          "base_uri": "https://localhost:8080/"
        },
        "id": "l1OWkVEvmFwe",
        "outputId": "5241040b-0d8b-4200-a4ea-55493d34fe52"
      },
      "source": [
        "print(dataset1)"
      ],
      "execution_count": 9,
      "outputs": [
        {
          "output_type": "stream",
          "name": "stdout",
          "text": [
            "       Salnty  T_degC\n",
            "0      33.440   10.50\n",
            "1      33.440   10.46\n",
            "2      33.437   10.46\n",
            "3      33.420   10.45\n",
            "4      33.421   10.45\n",
            "...       ...     ...\n",
            "99869  33.340   11.90\n",
            "99914  33.240   13.25\n",
            "99940  33.260   13.43\n",
            "99965  33.330   12.76\n",
            "99989  33.330   14.28\n",
            "\n",
            "[73611 rows x 2 columns]\n"
          ]
        }
      ]
    },
    {
      "cell_type": "markdown",
      "metadata": {
        "id": "oN6WGEK6u0GK"
      },
      "source": [
        "#<h3>Segregate and reshape the dataset</h3>"
      ]
    },
    {
      "cell_type": "code",
      "metadata": {
        "id": "pjrpyg3Qv9nf"
      },
      "source": [
        "x = dataset1.iloc[:,0]"
      ],
      "execution_count": 10,
      "outputs": []
    },
    {
      "cell_type": "code",
      "metadata": {
        "colab": {
          "base_uri": "https://localhost:8080/"
        },
        "id": "N8Na_ebewAf0",
        "outputId": "afae0325-ecc2-4a1f-8e76-6a2b066a58c8"
      },
      "source": [
        "x.shape"
      ],
      "execution_count": 11,
      "outputs": [
        {
          "output_type": "execute_result",
          "data": {
            "text/plain": [
              "(73611,)"
            ]
          },
          "metadata": {},
          "execution_count": 11
        }
      ]
    },
    {
      "cell_type": "code",
      "metadata": {
        "id": "2x6fKMFfrkEK"
      },
      "source": [
        "x = dataset1.iloc[:,0].values.reshape(-1,1)"
      ],
      "execution_count": 12,
      "outputs": []
    },
    {
      "cell_type": "code",
      "metadata": {
        "colab": {
          "base_uri": "https://localhost:8080/"
        },
        "id": "4q4xyIi5r3fy",
        "outputId": "c00f7364-2d1e-44e2-828c-43e7ce2c571c"
      },
      "source": [
        "x.shape"
      ],
      "execution_count": 13,
      "outputs": [
        {
          "output_type": "execute_result",
          "data": {
            "text/plain": [
              "(73611, 1)"
            ]
          },
          "metadata": {},
          "execution_count": 13
        }
      ]
    },
    {
      "cell_type": "code",
      "metadata": {
        "id": "NmB92-Acr71R"
      },
      "source": [
        "y = dataset1.iloc[:,-1].values.reshape(-1,1)"
      ],
      "execution_count": 14,
      "outputs": []
    },
    {
      "cell_type": "code",
      "metadata": {
        "colab": {
          "base_uri": "https://localhost:8080/"
        },
        "id": "mLeI7peWsAgE",
        "outputId": "4b8c56b9-c8e6-459e-ff9d-c2cc31a9d27a"
      },
      "source": [
        "y.shape"
      ],
      "execution_count": 15,
      "outputs": [
        {
          "output_type": "execute_result",
          "data": {
            "text/plain": [
              "(73611, 1)"
            ]
          },
          "metadata": {},
          "execution_count": 15
        }
      ]
    },
    {
      "cell_type": "code",
      "metadata": {
        "colab": {
          "base_uri": "https://localhost:8080/",
          "height": 265
        },
        "id": "RCzBLx4QsIt2",
        "outputId": "e93febec-03a5-48c8-8e25-80617749ee66"
      },
      "source": [
        "plt.scatter(x,y)\n",
        "plt.show()"
      ],
      "execution_count": 16,
      "outputs": [
        {
          "output_type": "display_data",
          "data": {
            "image/png": "[encoded data removed]",
            "text/plain": [
              "<Figure size 432x288 with 1 Axes>"
            ]
          },
          "metadata": {
            "needs_background": "light"
          }
        }
      ]
    },
    {
      "cell_type": "markdown",
      "metadata": {
        "id": "_CmuxUqEu_G5"
      },
      "source": [
        "#<h3>Split the dataset into training and test set</h3>"
      ]
    },
    {
      "cell_type": "code",
      "metadata": {
        "id": "vbLWumQIssxk"
      },
      "source": [
        "from sklearn.model_selection import train_test_split"
      ],
      "execution_count": 17,
      "outputs": []
    },
    {
      "cell_type": "code",
      "metadata": {
        "id": "QOOPeL2ks2R7"
      },
      "source": [
        "x_train,x_test,y_train,y_test = train_test_split(x,y, test_size = 0.2, random_state = 0)"
      ],
      "execution_count": 18,
      "outputs": []
    },
    {
      "cell_type": "markdown",
      "metadata": {
        "id": "l17yKmXivMoA"
      },
      "source": [
        "#<h3>Check training and test dataset</h3>"
      ]
    },
    {
      "cell_type": "code",
      "metadata": {
        "colab": {
          "base_uri": "https://localhost:8080/"
        },
        "id": "xS3BI-TAtTxv",
        "outputId": "75cce642-63be-41d5-8991-6b79bb5d3b16"
      },
      "source": [
        "x_train.shape"
      ],
      "execution_count": 19,
      "outputs": [
        {
          "output_type": "execute_result",
          "data": {
            "text/plain": [
              "(58888, 1)"
            ]
          },
          "metadata": {},
          "execution_count": 19
        }
      ]
    },
    {
      "cell_type": "code",
      "metadata": {
        "colab": {
          "base_uri": "https://localhost:8080/"
        },
        "id": "Ds5wOGmxtYxw",
        "outputId": "b418f8a0-7473-4616-b1da-3991853a5961"
      },
      "source": [
        "x_test.shape"
      ],
      "execution_count": 20,
      "outputs": [
        {
          "output_type": "execute_result",
          "data": {
            "text/plain": [
              "(14723, 1)"
            ]
          },
          "metadata": {},
          "execution_count": 20
        }
      ]
    },
    {
      "cell_type": "code",
      "metadata": {
        "colab": {
          "base_uri": "https://localhost:8080/"
        },
        "id": "qQSbBNJ6ta7A",
        "outputId": "8e032af6-b779-4158-87a5-93e5211758d3"
      },
      "source": [
        "y_train.shape"
      ],
      "execution_count": 21,
      "outputs": [
        {
          "output_type": "execute_result",
          "data": {
            "text/plain": [
              "(58888, 1)"
            ]
          },
          "metadata": {},
          "execution_count": 21
        }
      ]
    },
    {
      "cell_type": "code",
      "metadata": {
        "colab": {
          "base_uri": "https://localhost:8080/"
        },
        "id": "VsqX1vbOz1Qp",
        "outputId": "093a6787-28b1-47ff-d225-8b1033e80463"
      },
      "source": [
        "y_test.shape"
      ],
      "execution_count": 22,
      "outputs": [
        {
          "output_type": "execute_result",
          "data": {
            "text/plain": [
              "(14723, 1)"
            ]
          },
          "metadata": {},
          "execution_count": 22
        }
      ]
    },
    {
      "cell_type": "markdown",
      "metadata": {
        "id": "9IEV7carvSn4"
      },
      "source": [
        "#<h3>Import the function for linear regression</h3>"
      ]
    },
    {
      "cell_type": "code",
      "metadata": {
        "id": "K2WbjewkyNZJ"
      },
      "source": [
        "from sklearn.linear_model import LinearRegression"
      ],
      "execution_count": 23,
      "outputs": []
    },
    {
      "cell_type": "code",
      "metadata": {
        "id": "x4Sq6m9iy2cm"
      },
      "source": [
        "lm = LinearRegression()"
      ],
      "execution_count": 24,
      "outputs": []
    },
    {
      "cell_type": "code",
      "metadata": {
        "colab": {
          "base_uri": "https://localhost:8080/"
        },
        "id": "8BgJRs49y5or",
        "outputId": "b28915b0-2ea4-41d9-ba10-43b8a2aa4e53"
      },
      "source": [
        "lm.fit(x_train,y_train)"
      ],
      "execution_count": 25,
      "outputs": [
        {
          "output_type": "execute_result",
          "data": {
            "text/plain": [
              "LinearRegression(copy_X=True, fit_intercept=True, n_jobs=None, normalize=False)"
            ]
          },
          "metadata": {},
          "execution_count": 25
        }
      ]
    },
    {
      "cell_type": "markdown",
      "metadata": {
        "id": "YGQopKrJvaPO"
      },
      "source": [
        "#<h3>Predict the temperature(by using salinity) using test dataset</h3>"
      ]
    },
    {
      "cell_type": "code",
      "metadata": {
        "id": "hYjq1S-EzICa"
      },
      "source": [
        "y_pred = lm.predict(x_test)"
      ],
      "execution_count": 26,
      "outputs": []
    },
    {
      "cell_type": "code",
      "metadata": {
        "colab": {
          "base_uri": "https://localhost:8080/"
        },
        "id": "NnGCVrujzTrO",
        "outputId": "9740eefd-ca49-4f2b-ebf0-9891a4cc5ab1"
      },
      "source": [
        "y_pred"
      ],
      "execution_count": 27,
      "outputs": [
        {
          "output_type": "execute_result",
          "data": {
            "text/plain": [
              "array([[ 9.66477562],\n",
              "       [ 7.96539726],\n",
              "       [11.36415398],\n",
              "       ...,\n",
              "       [12.5324766 ],\n",
              "       [10.19583136],\n",
              "       [ 9.77098677]])"
            ]
          },
          "metadata": {},
          "execution_count": 27
        }
      ]
    },
    {
      "cell_type": "markdown",
      "metadata": {
        "id": "DmaTIZ-pvwXL"
      },
      "source": [
        "#<h3>Check the prediction</h3>"
      ]
    },
    {
      "cell_type": "code",
      "metadata": {
        "id": "S8VT2-JyzcRL"
      },
      "source": [
        "check = pd.DataFrame(x_test, columns = ['Salinity'])"
      ],
      "execution_count": 28,
      "outputs": []
    },
    {
      "cell_type": "code",
      "metadata": {
        "colab": {
          "base_uri": "https://localhost:8080/",
          "height": 415
        },
        "id": "Wq8rXhcezp46",
        "outputId": "0043d9f9-503e-4753-be5c-1b80b990d1c4"
      },
      "source": [
        "check"
      ],
      "execution_count": 29,
      "outputs": [
        {
          "output_type": "execute_result",
          "data": {
            "text/html": [
              "<div>\n",
              "<style scoped>\n",
              "    .dataframe tbody tr th:only-of-type {\n",
              "        vertical-align: middle;\n",
              "    }\n",
              "\n",
              "    .dataframe tbody tr th {\n",
              "        vertical-align: top;\n",
              "    }\n",
              "\n",
              "    .dataframe thead th {\n",
              "        text-align: right;\n",
              "    }\n",
              "</style>\n",
              "<table border=\"1\" class=\"dataframe\">\n",
              "  <thead>\n",
              "    <tr style=\"text-align: right;\">\n",
              "      <th></th>\n",
              "      <th>Salinity</th>\n",
              "    </tr>\n",
              "  </thead>\n",
              "  <tbody>\n",
              "    <tr>\n",
              "      <th>0</th>\n",
              "      <td>33.80</td>\n",
              "    </tr>\n",
              "    <tr>\n",
              "      <th>1</th>\n",
              "      <td>34.12</td>\n",
              "    </tr>\n",
              "    <tr>\n",
              "      <th>2</th>\n",
              "      <td>33.48</td>\n",
              "    </tr>\n",
              "    <tr>\n",
              "      <th>3</th>\n",
              "      <td>33.88</td>\n",
              "    </tr>\n",
              "    <tr>\n",
              "      <th>4</th>\n",
              "      <td>33.51</td>\n",
              "    </tr>\n",
              "    <tr>\n",
              "      <th>...</th>\n",
              "      <td>...</td>\n",
              "    </tr>\n",
              "    <tr>\n",
              "      <th>14718</th>\n",
              "      <td>33.45</td>\n",
              "    </tr>\n",
              "    <tr>\n",
              "      <th>14719</th>\n",
              "      <td>33.40</td>\n",
              "    </tr>\n",
              "    <tr>\n",
              "      <th>14720</th>\n",
              "      <td>33.26</td>\n",
              "    </tr>\n",
              "    <tr>\n",
              "      <th>14721</th>\n",
              "      <td>33.70</td>\n",
              "    </tr>\n",
              "    <tr>\n",
              "      <th>14722</th>\n",
              "      <td>33.78</td>\n",
              "    </tr>\n",
              "  </tbody>\n",
              "</table>\n",
              "<p>14723 rows × 1 columns</p>\n",
              "</div>"
            ],
            "text/plain": [
              "       Salinity\n",
              "0         33.80\n",
              "1         34.12\n",
              "2         33.48\n",
              "3         33.88\n",
              "4         33.51\n",
              "...         ...\n",
              "14718     33.45\n",
              "14719     33.40\n",
              "14720     33.26\n",
              "14721     33.70\n",
              "14722     33.78\n",
              "\n",
              "[14723 rows x 1 columns]"
            ]
          },
          "metadata": {},
          "execution_count": 29
        }
      ]
    },
    {
      "cell_type": "code",
      "metadata": {
        "id": "plQ4mVW_zswV"
      },
      "source": [
        "check['Temperature_Actual'] = y_test"
      ],
      "execution_count": 30,
      "outputs": []
    },
    {
      "cell_type": "code",
      "metadata": {
        "colab": {
          "base_uri": "https://localhost:8080/",
          "height": 415
        },
        "id": "A7wwEGlWz-8G",
        "outputId": "40638ce9-18bd-4e78-dfa1-150776d4574f"
      },
      "source": [
        "check"
      ],
      "execution_count": 31,
      "outputs": [
        {
          "output_type": "execute_result",
          "data": {
            "text/html": [
              "<div>\n",
              "<style scoped>\n",
              "    .dataframe tbody tr th:only-of-type {\n",
              "        vertical-align: middle;\n",
              "    }\n",
              "\n",
              "    .dataframe tbody tr th {\n",
              "        vertical-align: top;\n",
              "    }\n",
              "\n",
              "    .dataframe thead th {\n",
              "        text-align: right;\n",
              "    }\n",
              "</style>\n",
              "<table border=\"1\" class=\"dataframe\">\n",
              "  <thead>\n",
              "    <tr style=\"text-align: right;\">\n",
              "      <th></th>\n",
              "      <th>Salinity</th>\n",
              "      <th>Temperature_Actual</th>\n",
              "    </tr>\n",
              "  </thead>\n",
              "  <tbody>\n",
              "    <tr>\n",
              "      <th>0</th>\n",
              "      <td>33.80</td>\n",
              "      <td>9.07</td>\n",
              "    </tr>\n",
              "    <tr>\n",
              "      <th>1</th>\n",
              "      <td>34.12</td>\n",
              "      <td>4.91</td>\n",
              "    </tr>\n",
              "    <tr>\n",
              "      <th>2</th>\n",
              "      <td>33.48</td>\n",
              "      <td>14.93</td>\n",
              "    </tr>\n",
              "    <tr>\n",
              "      <th>3</th>\n",
              "      <td>33.88</td>\n",
              "      <td>6.83</td>\n",
              "    </tr>\n",
              "    <tr>\n",
              "      <th>4</th>\n",
              "      <td>33.51</td>\n",
              "      <td>14.53</td>\n",
              "    </tr>\n",
              "    <tr>\n",
              "      <th>...</th>\n",
              "      <td>...</td>\n",
              "      <td>...</td>\n",
              "    </tr>\n",
              "    <tr>\n",
              "      <th>14718</th>\n",
              "      <td>33.45</td>\n",
              "      <td>14.85</td>\n",
              "    </tr>\n",
              "    <tr>\n",
              "      <th>14719</th>\n",
              "      <td>33.40</td>\n",
              "      <td>14.20</td>\n",
              "    </tr>\n",
              "    <tr>\n",
              "      <th>14720</th>\n",
              "      <td>33.26</td>\n",
              "      <td>8.93</td>\n",
              "    </tr>\n",
              "    <tr>\n",
              "      <th>14721</th>\n",
              "      <td>33.70</td>\n",
              "      <td>19.54</td>\n",
              "    </tr>\n",
              "    <tr>\n",
              "      <th>14722</th>\n",
              "      <td>33.78</td>\n",
              "      <td>16.31</td>\n",
              "    </tr>\n",
              "  </tbody>\n",
              "</table>\n",
              "<p>14723 rows × 2 columns</p>\n",
              "</div>"
            ],
            "text/plain": [
              "       Salinity  Temperature_Actual\n",
              "0         33.80                9.07\n",
              "1         34.12                4.91\n",
              "2         33.48               14.93\n",
              "3         33.88                6.83\n",
              "4         33.51               14.53\n",
              "...         ...                 ...\n",
              "14718     33.45               14.85\n",
              "14719     33.40               14.20\n",
              "14720     33.26                8.93\n",
              "14721     33.70               19.54\n",
              "14722     33.78               16.31\n",
              "\n",
              "[14723 rows x 2 columns]"
            ]
          },
          "metadata": {},
          "execution_count": 31
        }
      ]
    },
    {
      "cell_type": "code",
      "metadata": {
        "id": "lq2_zqry0GQ4"
      },
      "source": [
        "check['Temperature_Predicted'] = y_pred"
      ],
      "execution_count": 32,
      "outputs": []
    },
    {
      "cell_type": "code",
      "metadata": {
        "colab": {
          "base_uri": "https://localhost:8080/",
          "height": 415
        },
        "id": "xBwNB3cZ0Lt9",
        "outputId": "498cc527-99ac-4918-9af3-cac82ec9785d"
      },
      "source": [
        "check"
      ],
      "execution_count": 33,
      "outputs": [
        {
          "output_type": "execute_result",
          "data": {
            "text/html": [
              "<div>\n",
              "<style scoped>\n",
              "    .dataframe tbody tr th:only-of-type {\n",
              "        vertical-align: middle;\n",
              "    }\n",
              "\n",
              "    .dataframe tbody tr th {\n",
              "        vertical-align: top;\n",
              "    }\n",
              "\n",
              "    .dataframe thead th {\n",
              "        text-align: right;\n",
              "    }\n",
              "</style>\n",
              "<table border=\"1\" class=\"dataframe\">\n",
              "  <thead>\n",
              "    <tr style=\"text-align: right;\">\n",
              "      <th></th>\n",
              "      <th>Salinity</th>\n",
              "      <th>Temperature_Actual</th>\n",
              "      <th>Temperature_Predicted</th>\n",
              "    </tr>\n",
              "  </thead>\n",
              "  <tbody>\n",
              "    <tr>\n",
              "      <th>0</th>\n",
              "      <td>33.80</td>\n",
              "      <td>9.07</td>\n",
              "      <td>9.664776</td>\n",
              "    </tr>\n",
              "    <tr>\n",
              "      <th>1</th>\n",
              "      <td>34.12</td>\n",
              "      <td>4.91</td>\n",
              "      <td>7.965397</td>\n",
              "    </tr>\n",
              "    <tr>\n",
              "      <th>2</th>\n",
              "      <td>33.48</td>\n",
              "      <td>14.93</td>\n",
              "      <td>11.364154</td>\n",
              "    </tr>\n",
              "    <tr>\n",
              "      <th>3</th>\n",
              "      <td>33.88</td>\n",
              "      <td>6.83</td>\n",
              "      <td>9.239931</td>\n",
              "    </tr>\n",
              "    <tr>\n",
              "      <th>4</th>\n",
              "      <td>33.51</td>\n",
              "      <td>14.53</td>\n",
              "      <td>11.204837</td>\n",
              "    </tr>\n",
              "    <tr>\n",
              "      <th>...</th>\n",
              "      <td>...</td>\n",
              "      <td>...</td>\n",
              "      <td>...</td>\n",
              "    </tr>\n",
              "    <tr>\n",
              "      <th>14718</th>\n",
              "      <td>33.45</td>\n",
              "      <td>14.85</td>\n",
              "      <td>11.523471</td>\n",
              "    </tr>\n",
              "    <tr>\n",
              "      <th>14719</th>\n",
              "      <td>33.40</td>\n",
              "      <td>14.20</td>\n",
              "      <td>11.788999</td>\n",
              "    </tr>\n",
              "    <tr>\n",
              "      <th>14720</th>\n",
              "      <td>33.26</td>\n",
              "      <td>8.93</td>\n",
              "      <td>12.532477</td>\n",
              "    </tr>\n",
              "    <tr>\n",
              "      <th>14721</th>\n",
              "      <td>33.70</td>\n",
              "      <td>19.54</td>\n",
              "      <td>10.195831</td>\n",
              "    </tr>\n",
              "    <tr>\n",
              "      <th>14722</th>\n",
              "      <td>33.78</td>\n",
              "      <td>16.31</td>\n",
              "      <td>9.770987</td>\n",
              "    </tr>\n",
              "  </tbody>\n",
              "</table>\n",
              "<p>14723 rows × 3 columns</p>\n",
              "</div>"
            ],
            "text/plain": [
              "       Salinity  Temperature_Actual  Temperature_Predicted\n",
              "0         33.80                9.07               9.664776\n",
              "1         34.12                4.91               7.965397\n",
              "2         33.48               14.93              11.364154\n",
              "3         33.88                6.83               9.239931\n",
              "4         33.51               14.53              11.204837\n",
              "...         ...                 ...                    ...\n",
              "14718     33.45               14.85              11.523471\n",
              "14719     33.40               14.20              11.788999\n",
              "14720     33.26                8.93              12.532477\n",
              "14721     33.70               19.54              10.195831\n",
              "14722     33.78               16.31               9.770987\n",
              "\n",
              "[14723 rows x 3 columns]"
            ]
          },
          "metadata": {},
          "execution_count": 33
        }
      ]
    },
    {
      "cell_type": "markdown",
      "metadata": {
        "id": "Y0wSKeY2v5CM"
      },
      "source": [
        "#<h3>Check using regression line</h3>"
      ]
    },
    {
      "cell_type": "code",
      "metadata": {
        "colab": {
          "base_uri": "https://localhost:8080/",
          "height": 281
        },
        "id": "Ixy-GjzT0VZi",
        "outputId": "26280813-fc04-455b-94c2-552f651de67d"
      },
      "source": [
        "plt.scatter(x,y, color = 'blue')\n",
        "plt.plot(x_test,y_pred,color = 'red')"
      ],
      "execution_count": 34,
      "outputs": [
        {
          "output_type": "execute_result",
          "data": {
            "text/plain": [
              "[<matplotlib.lines.Line2D at 0x7f0b88b52f10>]"
            ]
          },
          "metadata": {},
          "execution_count": 34
        },
        {
          "output_type": "display_data",
          "data": {
            "image/png": "[encoded data removed]",
            "text/plain": [
              "<Figure size 432x288 with 1 Axes>"
            ]
          },
          "metadata": {
            "needs_background": "light"
          }
        }
      ]
    }
  ]
}