{
  "nbformat": 4,
  "nbformat_minor": 0,
  "metadata": {
    "colab": {
      "name": "Linear Regression-Water Temperature Prediction(Using Salinity).ipynb",
      "provenance": [],
      "authorship_tag": "ABX9TyO67xzpSfSy4Ud94u3aXTfe"
    },
    "kernelspec": {
      "name": "python3",
      "display_name": "Python 3"
    },
    "language_info": {
      "name": "python"
    }
  },
  "cells": [
    {
      "cell_type": "markdown",
      "metadata": {
        "id": "Kv1o0tVHns0d"
      },
      "source": [
        "<h1 align = \"center\"> LINEAR REGRESSION</h1>"
      ]
    },
    {
      "cell_type": "markdown",
      "metadata": {
        "id": "998UQJmftpJN"
      },
      "source": [
        "<h1 align = \"center\"> USING SALINITY TO PREDICT TEMPERATURE OF WATER</h1>"
      ]
    },
    {
      "cell_type": "markdown",
      "metadata": {
        "id": "cb9lWP_Q8IX9"
      },
      "source": [
        "#<h2>Nithin Shanmugam V (RA1911026020087)</h2>"
      ]
    },
    {
      "cell_type": "markdown",
      "metadata": {
        "id": "gkYYf97TnR8Z"
      },
      "source": [
        "#<h2>Subject: VAC</h2>"
      ]
    },
    {
      "cell_type": "markdown",
      "metadata": {
        "id": "GsnYqiZEuDTP"
      },
      "source": [
        "#<h3> Importing libraries</h3>"
      ]
    },
    {
      "cell_type": "code",
      "metadata": {
        "id": "RPulyfOU8lt0"
      },
      "source": [
        "import warnings\n",
        "warnings.simplefilter(\"ignore\")"
      ],
      "execution_count": 1,
      "outputs": []
    },
    {
      "cell_type": "code",
      "metadata": {
        "id": "2VUdJdbJ7uK9"
      },
      "source": [
        "import numpy as np\n",
        "import pandas as pd"
      ],
      "execution_count": 2,
      "outputs": []
    },
    {
      "cell_type": "code",
      "metadata": {
        "id": "EegMQW1d83nr"
      },
      "source": [
        "import matplotlib.pyplot as plt\n",
        "%matplotlib inline"
      ],
      "execution_count": 3,
      "outputs": []
    },
    {
      "cell_type": "markdown",
      "metadata": {
        "id": "W4M3AifduOlX"
      },
      "source": [
        "#<h3> Importing Dataset</h3>"
      ]
    },
    {
      "cell_type": "code",
      "metadata": {
        "id": "SNnOsm517-LH"
      },
      "source": [
        "dataset = pd.read_csv(\"/content/temp-salinity-pred.csv\")"
      ],
      "execution_count": 4,
      "outputs": []
    },
    {
      "cell_type": "code",
      "metadata": {
        "colab": {
          "base_uri": "https://localhost:8080/",
          "height": 415
        },
        "id": "ZTSeYz3ZrhQR",
        "outputId": "78dd75d2-f2d4-4c5b-8837-e94b7f0f7e49"
      },
      "source": [
        "dataset"
      ],
      "execution_count": 5,
      "outputs": [
        {
          "output_type": "execute_result",
          "data": {
            "text/html": [
              "<div>\n",
              "<style scoped>\n",
              "    .dataframe tbody tr th:only-of-type {\n",
              "        vertical-align: middle;\n",
              "    }\n",
              "\n",
              "    .dataframe tbody tr th {\n",
              "        vertical-align: top;\n",
              "    }\n",
              "\n",
              "    .dataframe thead th {\n",
              "        text-align: right;\n",
              "    }\n",
              "</style>\n",
              "<table border=\"1\" class=\"dataframe\">\n",
              "  <thead>\n",
              "    <tr style=\"text-align: right;\">\n",
              "      <th></th>\n",
              "      <th>Cst_Cnt</th>\n",
              "      <th>Btl_Cnt</th>\n",
              "      <th>Sta_ID</th>\n",
              "      <th>Depth_ID</th>\n",
              "      <th>Depthm</th>\n",
              "      <th>T_degC</th>\n",
              "      <th>Salnty</th>\n",
              "    </tr>\n",
              "  </thead>\n",
              "  <tbody>\n",
              "    <tr>\n",
              "      <th>0</th>\n",
              "      <td>1</td>\n",
              "      <td>1</td>\n",
              "      <td>054.0 056.0</td>\n",
              "      <td>19-4903CR-HY-060-0930-05400560-0000A-3</td>\n",
              "      <td>0</td>\n",
              "      <td>10.50</td>\n",
              "      <td>33.440</td>\n",
              "    </tr>\n",
              "    <tr>\n",
              "      <th>1</th>\n",
              "      <td>1</td>\n",
              "      <td>2</td>\n",
              "      <td>054.0 056.0</td>\n",
              "      <td>19-4903CR-HY-060-0930-05400560-0008A-3</td>\n",
              "      <td>8</td>\n",
              "      <td>10.46</td>\n",
              "      <td>33.440</td>\n",
              "    </tr>\n",
              "    <tr>\n",
              "      <th>2</th>\n",
              "      <td>1</td>\n",
              "      <td>3</td>\n",
              "      <td>054.0 056.0</td>\n",
              "      <td>19-4903CR-HY-060-0930-05400560-0010A-7</td>\n",
              "      <td>10</td>\n",
              "      <td>10.46</td>\n",
              "      <td>33.437</td>\n",
              "    </tr>\n",
              "    <tr>\n",
              "      <th>3</th>\n",
              "      <td>1</td>\n",
              "      <td>4</td>\n",
              "      <td>054.0 056.0</td>\n",
              "      <td>19-4903CR-HY-060-0930-05400560-0019A-3</td>\n",
              "      <td>19</td>\n",
              "      <td>10.45</td>\n",
              "      <td>33.420</td>\n",
              "    </tr>\n",
              "    <tr>\n",
              "      <th>4</th>\n",
              "      <td>1</td>\n",
              "      <td>5</td>\n",
              "      <td>054.0 056.0</td>\n",
              "      <td>19-4903CR-HY-060-0930-05400560-0020A-7</td>\n",
              "      <td>20</td>\n",
              "      <td>10.45</td>\n",
              "      <td>33.421</td>\n",
              "    </tr>\n",
              "    <tr>\n",
              "      <th>...</th>\n",
              "      <td>...</td>\n",
              "      <td>...</td>\n",
              "      <td>...</td>\n",
              "      <td>...</td>\n",
              "      <td>...</td>\n",
              "      <td>...</td>\n",
              "      <td>...</td>\n",
              "    </tr>\n",
              "    <tr>\n",
              "      <th>502</th>\n",
              "      <td>17</td>\n",
              "      <td>503</td>\n",
              "      <td>072.0 056.0</td>\n",
              "      <td>19-4903CR-HY-066-0000-07200560-0000B-3</td>\n",
              "      <td>0</td>\n",
              "      <td>12.00</td>\n",
              "      <td>33.310</td>\n",
              "    </tr>\n",
              "    <tr>\n",
              "      <th>503</th>\n",
              "      <td>17</td>\n",
              "      <td>504</td>\n",
              "      <td>072.0 056.0</td>\n",
              "      <td>19-4903CR-HY-066-0000-07200560-0010A-3</td>\n",
              "      <td>10</td>\n",
              "      <td>11.88</td>\n",
              "      <td>33.260</td>\n",
              "    </tr>\n",
              "    <tr>\n",
              "      <th>504</th>\n",
              "      <td>17</td>\n",
              "      <td>505</td>\n",
              "      <td>072.0 056.0</td>\n",
              "      <td>19-4903CR-HY-066-0000-07200560-0020A-7</td>\n",
              "      <td>20</td>\n",
              "      <td>11.74</td>\n",
              "      <td>33.265</td>\n",
              "    </tr>\n",
              "    <tr>\n",
              "      <th>505</th>\n",
              "      <td>17</td>\n",
              "      <td>506</td>\n",
              "      <td>072.0 056.0</td>\n",
              "      <td>19-4903CR-HY-066-0000-07200560-0025A-3</td>\n",
              "      <td>25</td>\n",
              "      <td>11.66</td>\n",
              "      <td>33.280</td>\n",
              "    </tr>\n",
              "    <tr>\n",
              "      <th>506</th>\n",
              "      <td>17</td>\n",
              "      <td>507</td>\n",
              "      <td>072.0 056.0</td>\n",
              "      <td>19-4903CR-HY-066-0000-07200560-0030A-7</td>\n",
              "      <td>30</td>\n",
              "      <td>11.55</td>\n",
              "      <td>33.296</td>\n",
              "    </tr>\n",
              "  </tbody>\n",
              "</table>\n",
              "<p>507 rows × 7 columns</p>\n",
              "</div>"
            ],
            "text/plain": [
              "     Cst_Cnt  Btl_Cnt       Sta_ID  ... Depthm  T_degC  Salnty\n",
              "0          1        1  054.0 056.0  ...      0   10.50  33.440\n",
              "1          1        2  054.0 056.0  ...      8   10.46  33.440\n",
              "2          1        3  054.0 056.0  ...     10   10.46  33.437\n",
              "3          1        4  054.0 056.0  ...     19   10.45  33.420\n",
              "4          1        5  054.0 056.0  ...     20   10.45  33.421\n",
              "..       ...      ...          ...  ...    ...     ...     ...\n",
              "502       17      503  072.0 056.0  ...      0   12.00  33.310\n",
              "503       17      504  072.0 056.0  ...     10   11.88  33.260\n",
              "504       17      505  072.0 056.0  ...     20   11.74  33.265\n",
              "505       17      506  072.0 056.0  ...     25   11.66  33.280\n",
              "506       17      507  072.0 056.0  ...     30   11.55  33.296\n",
              "\n",
              "[507 rows x 7 columns]"
            ]
          },
          "metadata": {},
          "execution_count": 5
        }
      ]
    },
    {
      "cell_type": "code",
      "metadata": {
        "id": "0lBPFkAytzTX"
      },
      "source": [
        "dataset1 = dataset"
      ],
      "execution_count": 6,
      "outputs": []
    },
    {
      "cell_type": "markdown",
      "metadata": {
        "id": "iDaAX5npukQV"
      },
      "source": [
        "#<h3> Slicing the dat set - Removing the columns</h3>"
      ]
    },
    {
      "cell_type": "code",
      "metadata": {
        "id": "hQyHdrDhzWUn"
      },
      "source": [
        "dataset1 = dataset1.drop(columns=[\"Cst_Cnt\",\"Btl_Cnt\", \"Sta_ID\", \"Depth_ID\",\t\"Depthm\"])"
      ],
      "execution_count": 7,
      "outputs": []
    },
    {
      "cell_type": "code",
      "metadata": {
        "id": "1yML9lC0l7pt"
      },
      "source": [
        "dataset1 = dataset1.dropna()"
      ],
      "execution_count": 8,
      "outputs": []
    },
    {
      "cell_type": "code",
      "metadata": {
        "colab": {
          "base_uri": "https://localhost:8080/"
        },
        "id": "l1OWkVEvmFwe",
        "outputId": "92fe2352-1c9c-4692-bf28-28799ff4f220"
      },
      "source": [
        "print(dataset1)"
      ],
      "execution_count": 9,
      "outputs": [
        {
          "output_type": "stream",
          "name": "stdout",
          "text": [
            "     T_degC  Salnty\n",
            "0     10.50  33.440\n",
            "1     10.46  33.440\n",
            "2     10.46  33.437\n",
            "3     10.45  33.420\n",
            "4     10.45  33.421\n",
            "..      ...     ...\n",
            "502   12.00  33.310\n",
            "503   11.88  33.260\n",
            "504   11.74  33.265\n",
            "505   11.66  33.280\n",
            "506   11.55  33.296\n",
            "\n",
            "[500 rows x 2 columns]\n"
          ]
        }
      ]
    },
    {
      "cell_type": "markdown",
      "metadata": {
        "id": "oN6WGEK6u0GK"
      },
      "source": [
        "#<h3>Segregate and reshape the dataset</h3>"
      ]
    },
    {
      "cell_type": "code",
      "metadata": {
        "id": "pjrpyg3Qv9nf"
      },
      "source": [
        "x = dataset1.iloc[:,0]"
      ],
      "execution_count": 10,
      "outputs": []
    },
    {
      "cell_type": "code",
      "metadata": {
        "colab": {
          "base_uri": "https://localhost:8080/"
        },
        "id": "N8Na_ebewAf0",
        "outputId": "770f9f51-b543-4b2b-9a4f-de8ad0829220"
      },
      "source": [
        "x.shape"
      ],
      "execution_count": 11,
      "outputs": [
        {
          "output_type": "execute_result",
          "data": {
            "text/plain": [
              "(500,)"
            ]
          },
          "metadata": {},
          "execution_count": 11
        }
      ]
    },
    {
      "cell_type": "code",
      "metadata": {
        "id": "2x6fKMFfrkEK"
      },
      "source": [
        "x = dataset1.iloc[:,0].values.reshape(-1,1)"
      ],
      "execution_count": 12,
      "outputs": []
    },
    {
      "cell_type": "code",
      "metadata": {
        "colab": {
          "base_uri": "https://localhost:8080/"
        },
        "id": "4q4xyIi5r3fy",
        "outputId": "b25e3dd2-42f9-44ae-dc4f-86a4cd751311"
      },
      "source": [
        "x.shape"
      ],
      "execution_count": 13,
      "outputs": [
        {
          "output_type": "execute_result",
          "data": {
            "text/plain": [
              "(500, 1)"
            ]
          },
          "metadata": {},
          "execution_count": 13
        }
      ]
    },
    {
      "cell_type": "code",
      "metadata": {
        "id": "NmB92-Acr71R"
      },
      "source": [
        "y = dataset1.iloc[:,-1].values.reshape(-1,1)"
      ],
      "execution_count": 14,
      "outputs": []
    },
    {
      "cell_type": "code",
      "metadata": {
        "colab": {
          "base_uri": "https://localhost:8080/"
        },
        "id": "mLeI7peWsAgE",
        "outputId": "d00c24aa-65ca-4830-c264-17480a7096a9"
      },
      "source": [
        "y.shape"
      ],
      "execution_count": 15,
      "outputs": [
        {
          "output_type": "execute_result",
          "data": {
            "text/plain": [
              "(500, 1)"
            ]
          },
          "metadata": {},
          "execution_count": 15
        }
      ]
    },
    {
      "cell_type": "code",
      "metadata": {
        "colab": {
          "base_uri": "https://localhost:8080/",
          "height": 265
        },
        "id": "RCzBLx4QsIt2",
        "outputId": "11406382-f6e3-48b6-df20-cb69d1e19988"
      },
      "source": [
        "plt.scatter(x,y)\n",
        "plt.show()"
      ],
      "execution_count": 16,
      "outputs": [
        {
          "output_type": "display_data",
          "data": {
            "image/png": "[encoded data removed]",
            "text/plain": [
              "<Figure size 432x288 with 1 Axes>"
            ]
          },
          "metadata": {
            "needs_background": "light"
          }
        }
      ]
    },
    {
      "cell_type": "markdown",
      "metadata": {
        "id": "_CmuxUqEu_G5"
      },
      "source": [
        "#<h3>Split the dataset into training and test set</h3>"
      ]
    },
    {
      "cell_type": "code",
      "metadata": {
        "id": "vbLWumQIssxk"
      },
      "source": [
        "from sklearn.model_selection import train_test_split"
      ],
      "execution_count": 17,
      "outputs": []
    },
    {
      "cell_type": "code",
      "metadata": {
        "id": "QOOPeL2ks2R7"
      },
      "source": [
        "x_train,x_test,y_train,y_test = train_test_split(x,y, test_size = 0.2, random_state = 0)"
      ],
      "execution_count": 18,
      "outputs": []
    },
    {
      "cell_type": "markdown",
      "metadata": {
        "id": "l17yKmXivMoA"
      },
      "source": [
        "#<h3>Check training and test dataset</h3>"
      ]
    },
    {
      "cell_type": "code",
      "metadata": {
        "colab": {
          "base_uri": "https://localhost:8080/"
        },
        "id": "xS3BI-TAtTxv",
        "outputId": "9f10c21b-9125-42cc-ce28-50197a12f101"
      },
      "source": [
        "x_train.shape"
      ],
      "execution_count": 19,
      "outputs": [
        {
          "output_type": "execute_result",
          "data": {
            "text/plain": [
              "(400, 1)"
            ]
          },
          "metadata": {},
          "execution_count": 19
        }
      ]
    },
    {
      "cell_type": "code",
      "metadata": {
        "colab": {
          "base_uri": "https://localhost:8080/"
        },
        "id": "Ds5wOGmxtYxw",
        "outputId": "eec1ce30-3cb7-47cb-ce9a-70bd707e9135"
      },
      "source": [
        "x_test.shape"
      ],
      "execution_count": 20,
      "outputs": [
        {
          "output_type": "execute_result",
          "data": {
            "text/plain": [
              "(100, 1)"
            ]
          },
          "metadata": {},
          "execution_count": 20
        }
      ]
    },
    {
      "cell_type": "code",
      "metadata": {
        "colab": {
          "base_uri": "https://localhost:8080/"
        },
        "id": "qQSbBNJ6ta7A",
        "outputId": "3fd23d05-e088-4e19-ed1c-2c613f5ff169"
      },
      "source": [
        "y_train.shape"
      ],
      "execution_count": 21,
      "outputs": [
        {
          "output_type": "execute_result",
          "data": {
            "text/plain": [
              "(400, 1)"
            ]
          },
          "metadata": {},
          "execution_count": 21
        }
      ]
    },
    {
      "cell_type": "code",
      "metadata": {
        "colab": {
          "base_uri": "https://localhost:8080/"
        },
        "id": "VsqX1vbOz1Qp",
        "outputId": "acf37e74-a9a7-4768-dfb4-7e46f3752375"
      },
      "source": [
        "y_test.shape"
      ],
      "execution_count": 22,
      "outputs": [
        {
          "output_type": "execute_result",
          "data": {
            "text/plain": [
              "(100, 1)"
            ]
          },
          "metadata": {},
          "execution_count": 22
        }
      ]
    },
    {
      "cell_type": "markdown",
      "metadata": {
        "id": "9IEV7carvSn4"
      },
      "source": [
        "#<h3>Import the function for linear regression</h3>"
      ]
    },
    {
      "cell_type": "code",
      "metadata": {
        "id": "K2WbjewkyNZJ"
      },
      "source": [
        "from sklearn.linear_model import LinearRegression"
      ],
      "execution_count": 23,
      "outputs": []
    },
    {
      "cell_type": "code",
      "metadata": {
        "id": "x4Sq6m9iy2cm"
      },
      "source": [
        "lm = LinearRegression()"
      ],
      "execution_count": 24,
      "outputs": []
    },
    {
      "cell_type": "code",
      "metadata": {
        "colab": {
          "base_uri": "https://localhost:8080/"
        },
        "id": "8BgJRs49y5or",
        "outputId": "0a4e9db5-f563-4e2e-8e1f-e86f6dddf615"
      },
      "source": [
        "lm.fit(x_train,y_train)"
      ],
      "execution_count": 25,
      "outputs": [
        {
          "output_type": "execute_result",
          "data": {
            "text/plain": [
              "LinearRegression(copy_X=True, fit_intercept=True, n_jobs=None, normalize=False)"
            ]
          },
          "metadata": {},
          "execution_count": 25
        }
      ]
    },
    {
      "cell_type": "markdown",
      "metadata": {
        "id": "YGQopKrJvaPO"
      },
      "source": [
        "#<h3>Predict the temperature(by using salinity) using test dataset</h3>"
      ]
    },
    {
      "cell_type": "code",
      "metadata": {
        "id": "hYjq1S-EzICa"
      },
      "source": [
        "y_pred = lm.predict(x_test)"
      ],
      "execution_count": 26,
      "outputs": []
    },
    {
      "cell_type": "markdown",
      "metadata": {
        "id": "DmaTIZ-pvwXL"
      },
      "source": [
        "#<h3>Check the prediction</h3>"
      ]
    },
    {
      "cell_type": "code",
      "metadata": {
        "id": "S8VT2-JyzcRL"
      },
      "source": [
        "check = pd.DataFrame(x_test, columns = ['Salinity'])"
      ],
      "execution_count": 27,
      "outputs": []
    },
    {
      "cell_type": "code",
      "metadata": {
        "id": "plQ4mVW_zswV"
      },
      "source": [
        "check['Temperature_Actual'] = y_test"
      ],
      "execution_count": 28,
      "outputs": []
    },
    {
      "cell_type": "code",
      "metadata": {
        "id": "lq2_zqry0GQ4"
      },
      "source": [
        "check['Temperature_Predicted'] = y_pred"
      ],
      "execution_count": 29,
      "outputs": []
    },
    {
      "cell_type": "code",
      "metadata": {
        "colab": {
          "base_uri": "https://localhost:8080/",
          "height": 415
        },
        "id": "xBwNB3cZ0Lt9",
        "outputId": "4dda1c4a-a3a7-4356-ade1-77fd2eb3a6aa"
      },
      "source": [
        "check"
      ],
      "execution_count": 30,
      "outputs": [
        {
          "output_type": "execute_result",
          "data": {
            "text/html": [
              "<div>\n",
              "<style scoped>\n",
              "    .dataframe tbody tr th:only-of-type {\n",
              "        vertical-align: middle;\n",
              "    }\n",
              "\n",
              "    .dataframe tbody tr th {\n",
              "        vertical-align: top;\n",
              "    }\n",
              "\n",
              "    .dataframe thead th {\n",
              "        text-align: right;\n",
              "    }\n",
              "</style>\n",
              "<table border=\"1\" class=\"dataframe\">\n",
              "  <thead>\n",
              "    <tr style=\"text-align: right;\">\n",
              "      <th></th>\n",
              "      <th>Salinity</th>\n",
              "      <th>Temperature_Actual</th>\n",
              "      <th>Temperature_Predicted</th>\n",
              "    </tr>\n",
              "  </thead>\n",
              "  <tbody>\n",
              "    <tr>\n",
              "      <th>0</th>\n",
              "      <td>3.35</td>\n",
              "      <td>34.450</td>\n",
              "      <td>34.419237</td>\n",
              "    </tr>\n",
              "    <tr>\n",
              "      <th>1</th>\n",
              "      <td>10.67</td>\n",
              "      <td>33.150</td>\n",
              "      <td>33.126473</td>\n",
              "    </tr>\n",
              "    <tr>\n",
              "      <th>2</th>\n",
              "      <td>11.31</td>\n",
              "      <td>32.827</td>\n",
              "      <td>33.013444</td>\n",
              "    </tr>\n",
              "    <tr>\n",
              "      <th>3</th>\n",
              "      <td>8.20</td>\n",
              "      <td>33.780</td>\n",
              "      <td>33.562693</td>\n",
              "    </tr>\n",
              "    <tr>\n",
              "      <th>4</th>\n",
              "      <td>3.76</td>\n",
              "      <td>34.250</td>\n",
              "      <td>34.346828</td>\n",
              "    </tr>\n",
              "    <tr>\n",
              "      <th>...</th>\n",
              "      <td>...</td>\n",
              "      <td>...</td>\n",
              "      <td>...</td>\n",
              "    </tr>\n",
              "    <tr>\n",
              "      <th>95</th>\n",
              "      <td>11.48</td>\n",
              "      <td>32.781</td>\n",
              "      <td>32.983421</td>\n",
              "    </tr>\n",
              "    <tr>\n",
              "      <th>96</th>\n",
              "      <td>3.62</td>\n",
              "      <td>34.378</td>\n",
              "      <td>34.371553</td>\n",
              "    </tr>\n",
              "    <tr>\n",
              "      <th>97</th>\n",
              "      <td>9.38</td>\n",
              "      <td>33.300</td>\n",
              "      <td>33.354296</td>\n",
              "    </tr>\n",
              "    <tr>\n",
              "      <th>98</th>\n",
              "      <td>10.20</td>\n",
              "      <td>32.630</td>\n",
              "      <td>33.209478</td>\n",
              "    </tr>\n",
              "    <tr>\n",
              "      <th>99</th>\n",
              "      <td>3.89</td>\n",
              "      <td>34.217</td>\n",
              "      <td>34.323869</td>\n",
              "    </tr>\n",
              "  </tbody>\n",
              "</table>\n",
              "<p>100 rows × 3 columns</p>\n",
              "</div>"
            ],
            "text/plain": [
              "    Salinity  Temperature_Actual  Temperature_Predicted\n",
              "0       3.35              34.450              34.419237\n",
              "1      10.67              33.150              33.126473\n",
              "2      11.31              32.827              33.013444\n",
              "3       8.20              33.780              33.562693\n",
              "4       3.76              34.250              34.346828\n",
              "..       ...                 ...                    ...\n",
              "95     11.48              32.781              32.983421\n",
              "96      3.62              34.378              34.371553\n",
              "97      9.38              33.300              33.354296\n",
              "98     10.20              32.630              33.209478\n",
              "99      3.89              34.217              34.323869\n",
              "\n",
              "[100 rows x 3 columns]"
            ]
          },
          "metadata": {},
          "execution_count": 30
        }
      ]
    },
    {
      "cell_type": "markdown",
      "metadata": {
        "id": "Y0wSKeY2v5CM"
      },
      "source": [
        "#<h3>Check using regression line</h3>"
      ]
    },
    {
      "cell_type": "code",
      "metadata": {
        "colab": {
          "base_uri": "https://localhost:8080/",
          "height": 281
        },
        "id": "Ixy-GjzT0VZi",
        "outputId": "93837080-c1a7-491a-e892-d7b8ca38eb72"
      },
      "source": [
        "plt.scatter(x,y, color = 'blue')\n",
        "plt.plot(x_test,y_pred,color = 'red')"
      ],
      "execution_count": 31,
      "outputs": [
        {
          "output_type": "execute_result",
          "data": {
            "text/plain": [
              "[<matplotlib.lines.Line2D at 0x7f92417a8090>]"
            ]
          },
          "metadata": {},
          "execution_count": 31
        },
        {
          "output_type": "display_data",
          "data": {
            "image/png": "[encoded data removed]",
            "text/plain": [
              "<Figure size 432x288 with 1 Axes>"
            ]
          },
          "metadata": {
            "needs_background": "light"
          }
        }
      ]
    },
    {
      "cell_type": "markdown",
      "metadata": {
        "id": "mvazUzDbOFqk"
      },
      "source": [
        "#<h3>Checking the accuracy</h3>"
      ]
    },
    {
      "cell_type": "code",
      "metadata": {
        "colab": {
          "base_uri": "https://localhost:8080/"
        },
        "id": "OREZRMA7OGKC",
        "outputId": "303e27f9-c21b-44aa-929a-9a6e6bb9fea7"
      },
      "source": [
        "lm.score(x_train,y_train)"
      ],
      "execution_count": 32,
      "outputs": [
        {
          "output_type": "execute_result",
          "data": {
            "text/plain": [
              "0.8433313476826455"
            ]
          },
          "metadata": {},
          "execution_count": 32
        }
      ]
    },
    {
      "cell_type": "code",
      "metadata": {
        "colab": {
          "base_uri": "https://localhost:8080/",
          "height": 281
        },
        "id": "aJeugEidOPct",
        "outputId": "17b291fa-1efb-4a8a-dfe1-67cd19811999"
      },
      "source": [
        "plt.scatter(x,y,color='blue')\n",
        "plt.plot(x_test,y_pred,color='red')"
      ],
      "execution_count": 33,
      "outputs": [
        {
          "output_type": "execute_result",
          "data": {
            "text/plain": [
              "[<matplotlib.lines.Line2D at 0x7f923dfed090>]"
            ]
          },
          "metadata": {},
          "execution_count": 33
        },
        {
          "output_type": "display_data",
          "data": {
            "image/png": "[encoded data removed]",
            "text/plain": [
              "<Figure size 432x288 with 1 Axes>"
            ]
          },
          "metadata": {
            "needs_background": "light"
          }
        }
      ]
    }
  ]
}